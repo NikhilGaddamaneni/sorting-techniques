{
 "cells": [
  {
   "cell_type": "code",
   "execution_count": null,
   "id": "e5bd8604",
   "metadata": {},
   "outputs": [],
   "source": [
    "#1 ----inbuilt [SORT] function \n",
    "a=[10,90,20,30]\n",
    "print(a)\n",
    "a.sort()\n",
    "print(a)"
   ]
  },
  {
   "cell_type": "code",
   "execution_count": null,
   "id": "20bb92b8",
   "metadata": {},
   "outputs": [],
   "source": [
    "#2 ----> inbuilt [SORTED] function \n",
    "a=[10,20,23,4,54,3]\n",
    "print(a)\n",
    "b=sorted(a)\n",
    "print(b)"
   ]
  },
  {
   "cell_type": "code",
   "execution_count": null,
   "id": "c7e9c5d4",
   "metadata": {},
   "outputs": [],
   "source": [
    "#3--------> BUBBLE SORT \n",
    "def bubble_sort(num): \n",
    "    for i in range(len(num)-1,0,-1): \n",
    "        for j in range(i): \n",
    "            if num[j]>num[j+1]: \n",
    "                num[j],num[j+1]=num[j+1],num[j]\n",
    "num=[10,20,3,20,33,2,2]\n",
    "print(num)\n",
    "bubble_sort(num)\n",
    "print(num)"
   ]
  },
  {
   "cell_type": "code",
   "execution_count": null,
   "id": "f82afd57",
   "metadata": {},
   "outputs": [],
   "source": [
    "#4 --------> SELECTION SORTING \n",
    "num=[10,2,30,40,34]\n",
    "print(\"Before Sorting: \")\n",
    "print(num)\n",
    "for i in range(len(num)): \n",
    "    min_val=min(num[i:])\n",
    "    min_index=num.index(min_val,i)\n",
    "    num[i],num[min_index]=num[min_index],num[i] \n",
    "print(\"After sorting: \")\n",
    "print(num)"
   ]
  },
  {
   "cell_type": "code",
   "execution_count": 1,
   "id": "bd47897c",
   "metadata": {},
   "outputs": [
    {
     "name": "stdout",
     "output_type": "stream",
     "text": [
      "5\n",
      "76\n",
      "30\n",
      "10\n",
      "3\n",
      "5\n",
      "Before Sorting: \n",
      "[76, 30, 10, 3, 5]\n",
      "After sorting: \n",
      "[3, 5, 5, 3, 5]\n"
     ]
    }
   ],
   "source": [
    "#MERGE SORTING \n",
    "def mergesort(list1):\n",
    "    if len(list1)>1: \n",
    "        mid=len(list1)//2 \n",
    "        left_list=list1[:mid]\n",
    "        right_list=list1[mid:]\n",
    "        mergesort(left_list)\n",
    "        mergesort(right_list)\n",
    "        i=0 \n",
    "        j=0 \n",
    "        k=0 \n",
    "        while i<len(left_list) and j<len(right_list): \n",
    "            if left_list[i]<right_list[j]: \n",
    "                list1[k]=left_list[i]\n",
    "                i=i+1 \n",
    "                k=k+1 \n",
    "            else: \n",
    "                list1[k]=right_list[j]\n",
    "                j=j+1 \n",
    "                k=k+1 \n",
    "        while i<len(left_list):\n",
    "            i=i+1 \n",
    "            k=k+1 \n",
    "        while j<len(right_list):\n",
    "            j=j+1 \n",
    "            k=k+1 \n",
    "num=int(input())\n",
    "list1=[int(input()) for x in range(num)]\n",
    "print(\"Before Sorting: \")\n",
    "print(list1)\n",
    "mergesort(list1)\n",
    "print(\"After sorting: \")\n",
    "print(list1)"
   ]
  },
  {
   "cell_type": "code",
   "execution_count": null,
   "id": "7a991364",
   "metadata": {},
   "outputs": [],
   "source": [
    "a=\"aChirstamasTree\"\n",
    "b=\"\"\n",
    "for i in a: \n",
    "    if i.isupper(): \n",
    "        b+=\"-\"+i.lower()\n",
    "    else: \n",
    "        b+=i\n",
    "print(b)"
   ]
  },
  {
   "cell_type": "code",
   "execution_count": null,
   "id": "f5864d11",
   "metadata": {},
   "outputs": [],
   "source": [
    "n=int(input())\n",
    "a=str(n)\n",
    "if a==a[::-1]: \n",
    "    print(\"palindrome\")\n",
    "else: \n",
    "    print(\"Not palindrome\")"
   ]
  },
  {
   "cell_type": "code",
   "execution_count": 9,
   "id": "66d049b2",
   "metadata": {},
   "outputs": [
    {
     "name": "stdout",
     "output_type": "stream",
     "text": [
      "123\n",
      "123 35\n"
     ]
    }
   ],
   "source": []
  },
  {
   "cell_type": "code",
   "execution_count": null,
   "id": "3f0086aa",
   "metadata": {},
   "outputs": [],
   "source": [
    "num=[10,90,]"
   ]
  }
 ],
 "metadata": {
  "kernelspec": {
   "display_name": "Python 3 (ipykernel)",
   "language": "python",
   "name": "python3"
  },
  "language_info": {
   "codemirror_mode": {
    "name": "ipython",
    "version": 3
   },
   "file_extension": ".py",
   "mimetype": "text/x-python",
   "name": "python",
   "nbconvert_exporter": "python",
   "pygments_lexer": "ipython3",
   "version": "3.9.13"
  }
 },
 "nbformat": 4,
 "nbformat_minor": 5
}
